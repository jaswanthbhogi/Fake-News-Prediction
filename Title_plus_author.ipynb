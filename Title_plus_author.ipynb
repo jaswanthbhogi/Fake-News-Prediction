{
  "nbformat": 4,
  "nbformat_minor": 0,
  "metadata": {
    "colab": {
      "provenance": []
    },
    "kernelspec": {
      "name": "python3",
      "display_name": "Python 3"
    },
    "language_info": {
      "name": "python"
    }
  },
  "cells": [
    {
      "cell_type": "code",
      "execution_count": null,
      "metadata": {
        "id": "wYA2MPtMn7rX"
      },
      "outputs": [],
      "source": [
        "import numpy as np\n",
        "import pandas as pd\n",
        "import matplotlib.pyplot as plt\n",
        "import seaborn as sns\n",
        "import nltk\n",
        "import nltk\n",
        "from nltk.tokenize import sent_tokenize\n",
        "from nltk.stem import WordNetLemmatizer\n",
        "from nltk.corpus import stopwords\n",
        "import sklearn\n",
        "from sklearn.model_selection import train_test_split\n",
        "import tensorflow as tf\n",
        "import tensorflow_hub as hub"
      ]
    },
    {
      "cell_type": "code",
      "source": [
        "from google.colab import drive\n",
        "drive.mount('/content/drive')"
      ],
      "metadata": {
        "colab": {
          "base_uri": "https://localhost:8080/"
        },
        "id": "MUWbdkESoGw3",
        "outputId": "89b16161-ea96-4947-c549-c3b71bb2394b"
      },
      "execution_count": null,
      "outputs": [
        {
          "output_type": "stream",
          "name": "stdout",
          "text": [
            "Mounted at /content/drive\n"
          ]
        }
      ]
    },
    {
      "cell_type": "code",
      "source": [
        "df = pd.read_csv(\"/content/drive/MyDrive/Upgrad/train.csv\")"
      ],
      "metadata": {
        "id": "xYmZDt0CoHLv"
      },
      "execution_count": null,
      "outputs": []
    },
    {
      "cell_type": "code",
      "source": [
        "df.info()"
      ],
      "metadata": {
        "colab": {
          "base_uri": "https://localhost:8080/"
        },
        "id": "Hszxp2uCo2li",
        "outputId": "9376431f-5468-4b3a-fd90-76dee74b1938"
      },
      "execution_count": null,
      "outputs": [
        {
          "output_type": "stream",
          "name": "stdout",
          "text": [
            "<class 'pandas.core.frame.DataFrame'>\n",
            "RangeIndex: 20800 entries, 0 to 20799\n",
            "Data columns (total 5 columns):\n",
            " #   Column  Non-Null Count  Dtype \n",
            "---  ------  --------------  ----- \n",
            " 0   id      20800 non-null  int64 \n",
            " 1   title   20242 non-null  object\n",
            " 2   author  18843 non-null  object\n",
            " 3   text    20761 non-null  object\n",
            " 4   label   20800 non-null  int64 \n",
            "dtypes: int64(2), object(3)\n",
            "memory usage: 812.6+ KB\n"
          ]
        }
      ]
    },
    {
      "cell_type": "code",
      "source": [
        "df.isnull().sum()"
      ],
      "metadata": {
        "colab": {
          "base_uri": "https://localhost:8080/"
        },
        "id": "88heiahFpBtC",
        "outputId": "c28a31f5-ec65-45a9-b809-818845e476fb"
      },
      "execution_count": null,
      "outputs": [
        {
          "output_type": "execute_result",
          "data": {
            "text/plain": [
              "id           0\n",
              "title      558\n",
              "author    1957\n",
              "text        39\n",
              "label        0\n",
              "dtype: int64"
            ]
          },
          "metadata": {},
          "execution_count": 5
        }
      ]
    },
    {
      "cell_type": "code",
      "source": [
        "df[\"label\"].value_counts()"
      ],
      "metadata": {
        "colab": {
          "base_uri": "https://localhost:8080/"
        },
        "id": "RbQb4H6Jeh3f",
        "outputId": "62eadc71-e01f-4edd-f68a-27ef66bb2114"
      },
      "execution_count": null,
      "outputs": [
        {
          "output_type": "execute_result",
          "data": {
            "text/plain": [
              "1    10413\n",
              "0    10387\n",
              "Name: label, dtype: int64"
            ]
          },
          "metadata": {},
          "execution_count": 6
        }
      ]
    },
    {
      "cell_type": "code",
      "source": [
        "plt.pie(df[\"label\"].value_counts().values,data = [\"Fake News\",\"Real News\"])\n",
        "plt.show()\n",
        "#the data given is balanced"
      ],
      "metadata": {
        "colab": {
          "base_uri": "https://localhost:8080/",
          "height": 248
        },
        "id": "dMBNzxLrfwBu",
        "outputId": "046c2e8b-403a-47dc-850c-9db2e369ff11"
      },
      "execution_count": null,
      "outputs": [
        {
          "output_type": "display_data",
          "data": {
            "text/plain": [
              "<Figure size 432x288 with 1 Axes>"
            ],
            "image/png": "[encoded data removed]"
          },
          "metadata": {}
        }
      ]
    },
    {
      "cell_type": "code",
      "source": [
        "df = df.dropna()"
      ],
      "metadata": {
        "id": "Gb4UQge-rMs4"
      },
      "execution_count": null,
      "outputs": []
    },
    {
      "cell_type": "code",
      "source": [
        "df.isnull().sum()"
      ],
      "metadata": {
        "colab": {
          "base_uri": "https://localhost:8080/"
        },
        "id": "U1S8CtmSrfPt",
        "outputId": "bfde7cec-0ef1-4169-8c66-7c992daacfee"
      },
      "execution_count": null,
      "outputs": [
        {
          "output_type": "execute_result",
          "data": {
            "text/plain": [
              "id        0\n",
              "title     0\n",
              "author    0\n",
              "text      0\n",
              "label     0\n",
              "dtype: int64"
            ]
          },
          "metadata": {},
          "execution_count": 9
        }
      ]
    },
    {
      "cell_type": "code",
      "source": [],
      "metadata": {
        "id": "cM1VIXqKeL5O"
      },
      "execution_count": null,
      "outputs": []
    },
    {
      "cell_type": "code",
      "source": [
        "df_cp = df"
      ],
      "metadata": {
        "id": "qkb3_Z6kIx3Z"
      },
      "execution_count": null,
      "outputs": []
    },
    {
      "cell_type": "code",
      "source": [
        "df_cp[\"title_author\"] = df[\"title\"] +\" \" + df[\"author\"]"
      ],
      "metadata": {
        "id": "FOi953btpC8S"
      },
      "execution_count": null,
      "outputs": []
    },
    {
      "cell_type": "code",
      "source": [
        "df_cp[\"title_author\"] = df_cp[\"title_author\"].astype(str)"
      ],
      "metadata": {
        "id": "hFH4ExS9pFiq"
      },
      "execution_count": null,
      "outputs": []
    },
    {
      "cell_type": "code",
      "source": [
        "df_cp = df_cp.drop([\"title\",\"author\",\"text\"],axis =1 )\n",
        "df_cp"
      ],
      "metadata": {
        "colab": {
          "base_uri": "https://localhost:8080/",
          "height": 424
        },
        "id": "tBdxVMQttu6V",
        "outputId": "56e65bb7-c662-4449-abcc-3fc97adba0d0"
      },
      "execution_count": null,
      "outputs": [
        {
          "output_type": "execute_result",
          "data": {
            "text/plain": [
              "          id  label                                       title_author\n",
              "0          0      1  House Dem Aide: We Didn’t Even See Comey’s Let...\n",
              "1          1      0  FLYNN: Hillary Clinton, Big Woman on Campus - ...\n",
              "2          2      1  Why the Truth Might Get You Fired Consortiumne...\n",
              "3          3      1  15 Civilians Killed In Single US Airstrike Hav...\n",
              "4          4      1  Iranian woman jailed for fictional unpublished...\n",
              "...      ...    ...                                                ...\n",
              "20795  20795      0  Rapper T.I.: Trump a ’Poster Child For White S...\n",
              "20796  20796      0  N.F.L. Playoffs: Schedule, Matchups and Odds -...\n",
              "20797  20797      0  Macy’s Is Said to Receive Takeover Approach by...\n",
              "20798  20798      1  NATO, Russia To Hold Parallel Exercises In Bal...\n",
              "20799  20799      1            What Keeps the F-35 Alive David Swanson\n",
              "\n",
              "[18285 rows x 3 columns]"
            ],
            "text/html": [
              "\n",
              "  <div id=\"df-e2922f0d-94ff-4bcb-b071-0e0ac7337123\">\n",
              "    <div class=\"colab-df-container\">\n",
              "      <div>\n",
              "<style scoped>\n",
              "    .dataframe tbody tr th:only-of-type {\n",
              "        vertical-align: middle;\n",
              "    }\n",
              "\n",
              "    .dataframe tbody tr th {\n",
              "        vertical-align: top;\n",
              "    }\n",
              "\n",
              "    .dataframe thead th {\n",
              "        text-align: right;\n",
              "    }\n",
              "</style>\n",
              "<table border=\"1\" class=\"dataframe\">\n",
              "  <thead>\n",
              "    <tr style=\"text-align: right;\">\n",
              "      <th></th>\n",
              "      <th>id</th>\n",
              "      <th>label</th>\n",
              "      <th>title_author</th>\n",
              "    </tr>\n",
              "  </thead>\n",
              "  <tbody>\n",
              "    <tr>\n",
              "      <th>0</th>\n",
              "      <td>0</td>\n",
              "      <td>1</td>\n",
              "      <td>House Dem Aide: We Didn’t Even See Comey’s Let...</td>\n",
              "    </tr>\n",
              "    <tr>\n",
              "      <th>1</th>\n",
              "      <td>1</td>\n",
              "      <td>0</td>\n",
              "      <td>FLYNN: Hillary Clinton, Big Woman on Campus - ...</td>\n",
              "    </tr>\n",
              "    <tr>\n",
              "      <th>2</th>\n",
              "      <td>2</td>\n",
              "      <td>1</td>\n",
              "      <td>Why the Truth Might Get You Fired Consortiumne...</td>\n",
              "    </tr>\n",
              "    <tr>\n",
              "      <th>3</th>\n",
              "      <td>3</td>\n",
              "      <td>1</td>\n",
              "      <td>15 Civilians Killed In Single US Airstrike Hav...</td>\n",
              "    </tr>\n",
              "    <tr>\n",
              "      <th>4</th>\n",
              "      <td>4</td>\n",
              "      <td>1</td>\n",
              "      <td>Iranian woman jailed for fictional unpublished...</td>\n",
              "    </tr>\n",
              "    <tr>\n",
              "      <th>...</th>\n",
              "      <td>...</td>\n",
              "      <td>...</td>\n",
              "      <td>...</td>\n",
              "    </tr>\n",
              "    <tr>\n",
              "      <th>20795</th>\n",
              "      <td>20795</td>\n",
              "      <td>0</td>\n",
              "      <td>Rapper T.I.: Trump a ’Poster Child For White S...</td>\n",
              "    </tr>\n",
              "    <tr>\n",
              "      <th>20796</th>\n",
              "      <td>20796</td>\n",
              "      <td>0</td>\n",
              "      <td>N.F.L. Playoffs: Schedule, Matchups and Odds -...</td>\n",
              "    </tr>\n",
              "    <tr>\n",
              "      <th>20797</th>\n",
              "      <td>20797</td>\n",
              "      <td>0</td>\n",
              "      <td>Macy’s Is Said to Receive Takeover Approach by...</td>\n",
              "    </tr>\n",
              "    <tr>\n",
              "      <th>20798</th>\n",
              "      <td>20798</td>\n",
              "      <td>1</td>\n",
              "      <td>NATO, Russia To Hold Parallel Exercises In Bal...</td>\n",
              "    </tr>\n",
              "    <tr>\n",
              "      <th>20799</th>\n",
              "      <td>20799</td>\n",
              "      <td>1</td>\n",
              "      <td>What Keeps the F-35 Alive David Swanson</td>\n",
              "    </tr>\n",
              "  </tbody>\n",
              "</table>\n",
              "<p>18285 rows × 3 columns</p>\n",
              "</div>\n",
              "      <button class=\"colab-df-convert\" onclick=\"convertToInteractive('df-e2922f0d-94ff-4bcb-b071-0e0ac7337123')\"\n",
              "              title=\"Convert this dataframe to an interactive table.\"\n",
              "              style=\"display:none;\">\n",
              "        \n",
              "  <svg xmlns=\"http://www.w3.org/2000/svg\" height=\"24px\"viewBox=\"0 0 24 24\"\n",
              "       width=\"24px\">\n",
              "    <path d=\"M0 0h24v24H0V0z\" fill=\"none\"/>\n",
              "    <path d=\"M18.56 5.44l.94 2.06.94-2.06 2.06-.94-2.06-.94-.94-2.06-.94 2.06-2.06.94zm-11 1L8.5 8.5l.94-2.06 2.06-.94-2.06-.94L8.5 2.5l-.94 2.06-2.06.94zm10 10l.94 2.06.94-2.06 2.06-.94-2.06-.94-.94-2.06-.94 2.06-2.06.94z\"/><path d=\"M17.41 7.96l-1.37-1.37c-.4-.4-.92-.59-1.43-.59-.52 0-1.04.2-1.43.59L10.3 9.45l-7.72 7.72c-.78.78-.78 2.05 0 2.83L4 21.41c.39.39.9.59 1.41.59.51 0 1.02-.2 1.41-.59l7.78-7.78 2.81-2.81c.8-.78.8-2.07 0-2.86zM5.41 20L4 18.59l7.72-7.72 1.47 1.35L5.41 20z\"/>\n",
              "  </svg>\n",
              "      </button>\n",
              "      \n",
              "  <style>\n",
              "    .colab-df-container {\n",
              "      display:flex;\n",
              "      flex-wrap:wrap;\n",
              "      gap: 12px;\n",
              "    }\n",
              "\n",
              "    .colab-df-convert {\n",
              "      background-color: #E8F0FE;\n",
              "      border: none;\n",
              "      border-radius: 50%;\n",
              "      cursor: pointer;\n",
              "      display: none;\n",
              "      fill: #1967D2;\n",
              "      height: 32px;\n",
              "      padding: 0 0 0 0;\n",
              "      width: 32px;\n",
              "    }\n",
              "\n",
              "    .colab-df-convert:hover {\n",
              "      background-color: #E2EBFA;\n",
              "      box-shadow: 0px 1px 2px rgba(60, 64, 67, 0.3), 0px 1px 3px 1px rgba(60, 64, 67, 0.15);\n",
              "      fill: #174EA6;\n",
              "    }\n",
              "\n",
              "    [theme=dark] .colab-df-convert {\n",
              "      background-color: #3B4455;\n",
              "      fill: #D2E3FC;\n",
              "    }\n",
              "\n",
              "    [theme=dark] .colab-df-convert:hover {\n",
              "      background-color: #434B5C;\n",
              "      box-shadow: 0px 1px 3px 1px rgba(0, 0, 0, 0.15);\n",
              "      filter: drop-shadow(0px 1px 2px rgba(0, 0, 0, 0.3));\n",
              "      fill: #FFFFFF;\n",
              "    }\n",
              "  </style>\n",
              "\n",
              "      <script>\n",
              "        const buttonEl =\n",
              "          document.querySelector('#df-e2922f0d-94ff-4bcb-b071-0e0ac7337123 button.colab-df-convert');\n",
              "        buttonEl.style.display =\n",
              "          google.colab.kernel.accessAllowed ? 'block' : 'none';\n",
              "\n",
              "        async function convertToInteractive(key) {\n",
              "          const element = document.querySelector('#df-e2922f0d-94ff-4bcb-b071-0e0ac7337123');\n",
              "          const dataTable =\n",
              "            await google.colab.kernel.invokeFunction('convertToInteractive',\n",
              "                                                     [key], {});\n",
              "          if (!dataTable) return;\n",
              "\n",
              "          const docLinkHtml = 'Like what you see? Visit the ' +\n",
              "            '<a target=\"_blank\" href=https://colab.research.google.com/notebooks/data_table.ipynb>data table notebook</a>'\n",
              "            + ' to learn more about interactive tables.';\n",
              "          element.innerHTML = '';\n",
              "          dataTable['output_type'] = 'display_data';\n",
              "          await google.colab.output.renderOutput(dataTable, element);\n",
              "          const docLink = document.createElement('div');\n",
              "          docLink.innerHTML = docLinkHtml;\n",
              "          element.appendChild(docLink);\n",
              "        }\n",
              "      </script>\n",
              "    </div>\n",
              "  </div>\n",
              "  "
            ]
          },
          "metadata": {},
          "execution_count": 13
        }
      ]
    },
    {
      "cell_type": "code",
      "source": [
        "nltk.download('punkt')\n",
        "nltk.download('wordnet')\n",
        "nltk.download('stopwords')\n",
        "#Tokenizing df_cp\n",
        "df_cp[\"title_author\"] = df_cp.apply(lambda row: nltk.word_tokenize(row['title_author']), axis=1)\n",
        "#Getting stop words from the library\n",
        "stop = stopwords.words('english')\n",
        "#Removing Stopping words\n",
        "df_cp['title_author'] = df_cp['title_author'].apply(lambda x: [i for i in x if i not in stop])\n",
        "#Removing punctuatio_marks\n",
        "punctuation = [\".\",\",\",\";\",\":\",\"[\",\"]\",\"{\",\"}\",\"'\",\"!\",\"-\",\"/\",]\n",
        "df_cp['title_author'] = df_cp['title_author'].apply(lambda x: [i for i in x if i not in punctuation])\n",
        "#debugging\n",
        "df_cp.head()"
      ],
      "metadata": {
        "colab": {
          "base_uri": "https://localhost:8080/",
          "height": 293
        },
        "id": "ZW54pl_dpGEm",
        "outputId": "05cf54a8-4d6f-4aab-a614-c95ee74b6dbd"
      },
      "execution_count": null,
      "outputs": [
        {
          "output_type": "stream",
          "name": "stderr",
          "text": [
            "[nltk_data] Downloading package punkt to /root/nltk_data...\n",
            "[nltk_data]   Unzipping tokenizers/punkt.zip.\n",
            "[nltk_data] Downloading package wordnet to /root/nltk_data...\n",
            "[nltk_data] Downloading package stopwords to /root/nltk_data...\n",
            "[nltk_data]   Unzipping corpora/stopwords.zip.\n"
          ]
        },
        {
          "output_type": "execute_result",
          "data": {
            "text/plain": [
              "   id  label                                       title_author\n",
              "0   0      1  [House, Dem, Aide, We, Didn, ’, Even, See, Com...\n",
              "1   1      0  [FLYNN, Hillary, Clinton, Big, Woman, Campus, ...\n",
              "2   2      1  [Why, Truth, Might, Get, You, Fired, Consortiu...\n",
              "3   3      1  [15, Civilians, Killed, In, Single, US, Airstr...\n",
              "4   4      1  [Iranian, woman, jailed, fictional, unpublishe..."
            ],
            "text/html": [
              "\n",
              "  <div id=\"df-50c2d8e6-d81c-4e76-bcf5-c8b59553e04d\">\n",
              "    <div class=\"colab-df-container\">\n",
              "      <div>\n",
              "<style scoped>\n",
              "    .dataframe tbody tr th:only-of-type {\n",
              "        vertical-align: middle;\n",
              "    }\n",
              "\n",
              "    .dataframe tbody tr th {\n",
              "        vertical-align: top;\n",
              "    }\n",
              "\n",
              "    .dataframe thead th {\n",
              "        text-align: right;\n",
              "    }\n",
              "</style>\n",
              "<table border=\"1\" class=\"dataframe\">\n",
              "  <thead>\n",
              "    <tr style=\"text-align: right;\">\n",
              "      <th></th>\n",
              "      <th>id</th>\n",
              "      <th>label</th>\n",
              "      <th>title_author</th>\n",
              "    </tr>\n",
              "  </thead>\n",
              "  <tbody>\n",
              "    <tr>\n",
              "      <th>0</th>\n",
              "      <td>0</td>\n",
              "      <td>1</td>\n",
              "      <td>[House, Dem, Aide, We, Didn, ’, Even, See, Com...</td>\n",
              "    </tr>\n",
              "    <tr>\n",
              "      <th>1</th>\n",
              "      <td>1</td>\n",
              "      <td>0</td>\n",
              "      <td>[FLYNN, Hillary, Clinton, Big, Woman, Campus, ...</td>\n",
              "    </tr>\n",
              "    <tr>\n",
              "      <th>2</th>\n",
              "      <td>2</td>\n",
              "      <td>1</td>\n",
              "      <td>[Why, Truth, Might, Get, You, Fired, Consortiu...</td>\n",
              "    </tr>\n",
              "    <tr>\n",
              "      <th>3</th>\n",
              "      <td>3</td>\n",
              "      <td>1</td>\n",
              "      <td>[15, Civilians, Killed, In, Single, US, Airstr...</td>\n",
              "    </tr>\n",
              "    <tr>\n",
              "      <th>4</th>\n",
              "      <td>4</td>\n",
              "      <td>1</td>\n",
              "      <td>[Iranian, woman, jailed, fictional, unpublishe...</td>\n",
              "    </tr>\n",
              "  </tbody>\n",
              "</table>\n",
              "</div>\n",
              "      <button class=\"colab-df-convert\" onclick=\"convertToInteractive('df-50c2d8e6-d81c-4e76-bcf5-c8b59553e04d')\"\n",
              "              title=\"Convert this dataframe to an interactive table.\"\n",
              "              style=\"display:none;\">\n",
              "        \n",
              "  <svg xmlns=\"http://www.w3.org/2000/svg\" height=\"24px\"viewBox=\"0 0 24 24\"\n",
              "       width=\"24px\">\n",
              "    <path d=\"M0 0h24v24H0V0z\" fill=\"none\"/>\n",
              "    <path d=\"M18.56 5.44l.94 2.06.94-2.06 2.06-.94-2.06-.94-.94-2.06-.94 2.06-2.06.94zm-11 1L8.5 8.5l.94-2.06 2.06-.94-2.06-.94L8.5 2.5l-.94 2.06-2.06.94zm10 10l.94 2.06.94-2.06 2.06-.94-2.06-.94-.94-2.06-.94 2.06-2.06.94z\"/><path d=\"M17.41 7.96l-1.37-1.37c-.4-.4-.92-.59-1.43-.59-.52 0-1.04.2-1.43.59L10.3 9.45l-7.72 7.72c-.78.78-.78 2.05 0 2.83L4 21.41c.39.39.9.59 1.41.59.51 0 1.02-.2 1.41-.59l7.78-7.78 2.81-2.81c.8-.78.8-2.07 0-2.86zM5.41 20L4 18.59l7.72-7.72 1.47 1.35L5.41 20z\"/>\n",
              "  </svg>\n",
              "      </button>\n",
              "      \n",
              "  <style>\n",
              "    .colab-df-container {\n",
              "      display:flex;\n",
              "      flex-wrap:wrap;\n",
              "      gap: 12px;\n",
              "    }\n",
              "\n",
              "    .colab-df-convert {\n",
              "      background-color: #E8F0FE;\n",
              "      border: none;\n",
              "      border-radius: 50%;\n",
              "      cursor: pointer;\n",
              "      display: none;\n",
              "      fill: #1967D2;\n",
              "      height: 32px;\n",
              "      padding: 0 0 0 0;\n",
              "      width: 32px;\n",
              "    }\n",
              "\n",
              "    .colab-df-convert:hover {\n",
              "      background-color: #E2EBFA;\n",
              "      box-shadow: 0px 1px 2px rgba(60, 64, 67, 0.3), 0px 1px 3px 1px rgba(60, 64, 67, 0.15);\n",
              "      fill: #174EA6;\n",
              "    }\n",
              "\n",
              "    [theme=dark] .colab-df-convert {\n",
              "      background-color: #3B4455;\n",
              "      fill: #D2E3FC;\n",
              "    }\n",
              "\n",
              "    [theme=dark] .colab-df-convert:hover {\n",
              "      background-color: #434B5C;\n",
              "      box-shadow: 0px 1px 3px 1px rgba(0, 0, 0, 0.15);\n",
              "      filter: drop-shadow(0px 1px 2px rgba(0, 0, 0, 0.3));\n",
              "      fill: #FFFFFF;\n",
              "    }\n",
              "  </style>\n",
              "\n",
              "      <script>\n",
              "        const buttonEl =\n",
              "          document.querySelector('#df-50c2d8e6-d81c-4e76-bcf5-c8b59553e04d button.colab-df-convert');\n",
              "        buttonEl.style.display =\n",
              "          google.colab.kernel.accessAllowed ? 'block' : 'none';\n",
              "\n",
              "        async function convertToInteractive(key) {\n",
              "          const element = document.querySelector('#df-50c2d8e6-d81c-4e76-bcf5-c8b59553e04d');\n",
              "          const dataTable =\n",
              "            await google.colab.kernel.invokeFunction('convertToInteractive',\n",
              "                                                     [key], {});\n",
              "          if (!dataTable) return;\n",
              "\n",
              "          const docLinkHtml = 'Like what you see? Visit the ' +\n",
              "            '<a target=\"_blank\" href=https://colab.research.google.com/notebooks/data_table.ipynb>data table notebook</a>'\n",
              "            + ' to learn more about interactive tables.';\n",
              "          element.innerHTML = '';\n",
              "          dataTable['output_type'] = 'display_data';\n",
              "          await google.colab.output.renderOutput(dataTable, element);\n",
              "          const docLink = document.createElement('div');\n",
              "          docLink.innerHTML = docLinkHtml;\n",
              "          element.appendChild(docLink);\n",
              "        }\n",
              "      </script>\n",
              "    </div>\n",
              "  </div>\n",
              "  "
            ]
          },
          "metadata": {},
          "execution_count": 14
        }
      ]
    },
    {
      "cell_type": "code",
      "source": [
        "def pre_processing_testing(test_news):\n",
        "  test_news = test_news.apply(lambda row: nltk.word_tokenize(row))\n",
        "  stop = stopwords.words('english')\n",
        "  test_news = test_news.apply(lambda x: [i for i in x if i not in stop])\n",
        "  punctuation = [\".\",\",\",\";\",\":\",\"[\",\"]\",\"{\",\"}\",\"'\",\"!\",\"-\",\"/\",]\n",
        "  df_cp['title_author'] = df_cp['title_author'].apply(lambda x: [i for i in x if i not in punctuation])\n",
        "  return test_news\n"
      ],
      "metadata": {
        "id": "u-IL48RNDnKh"
      },
      "execution_count": null,
      "outputs": []
    },
    {
      "cell_type": "code",
      "source": [
        "df_cp[\"title_author\"].apply(len).mean()"
      ],
      "metadata": {
        "colab": {
          "base_uri": "https://localhost:8080/"
        },
        "id": "PyGqHFoluP3y",
        "outputId": "7b045e88-2210-4b81-b5a1-a42b874d8c25"
      },
      "execution_count": null,
      "outputs": [
        {
          "output_type": "execute_result",
          "data": {
            "text/plain": [
              "13.86420563303254"
            ]
          },
          "metadata": {},
          "execution_count": 16
        }
      ]
    },
    {
      "cell_type": "code",
      "source": [
        "X = df_cp[\"title_author\"]\n",
        "y = df_cp[\"label\"]\n",
        "X_train, X_test, y_train, y_test = train_test_split(X,y,test_size = 0.3)"
      ],
      "metadata": {
        "id": "y4B_Ei7T_WJw"
      },
      "execution_count": null,
      "outputs": []
    },
    {
      "cell_type": "code",
      "source": [
        "X_train.shape"
      ],
      "metadata": {
        "colab": {
          "base_uri": "https://localhost:8080/"
        },
        "id": "ta1hMYEGAO3P",
        "outputId": "dae8ced5-bd92-491c-f661-bebf0b57dfd8"
      },
      "execution_count": null,
      "outputs": [
        {
          "output_type": "execute_result",
          "data": {
            "text/plain": [
              "(12799,)"
            ]
          },
          "metadata": {},
          "execution_count": 18
        }
      ]
    },
    {
      "cell_type": "code",
      "source": [
        "embed = hub.load(\"https://tfhub.dev/google/Wiki-words-250/2\")\n",
        "\n",
        "#Convert each series of words to a word2vec embedding\n",
        "indiv = []\n",
        "for i in X_train:\n",
        "  temp = np.array(embed(i))\n",
        "  indiv.append(temp)\n",
        "indiv2 = []\n",
        "for i in X_test:\n",
        "  temp = np.array(embed(i))\n",
        "  indiv2.append(temp)\n",
        "print(type(indiv2))\n",
        "#Accounts for different length of words\n",
        "indiv = tf.keras.preprocessing.sequence.pad_sequences(indiv,dtype='float')\n",
        "indiv2 = tf.keras.preprocessing.sequence.pad_sequences(indiv2,dtype='float')\n",
        "indiv.shape"
      ],
      "metadata": {
        "colab": {
          "base_uri": "https://localhost:8080/"
        },
        "id": "5_xupxgWw159",
        "outputId": "a8125f7d-a763-4b2a-a271-c919508eb8fb"
      },
      "execution_count": null,
      "outputs": [
        {
          "output_type": "stream",
          "name": "stdout",
          "text": [
            "<class 'list'>\n"
          ]
        },
        {
          "output_type": "execute_result",
          "data": {
            "text/plain": [
              "(12799, 69, 250)"
            ]
          },
          "metadata": {},
          "execution_count": 19
        }
      ]
    },
    {
      "cell_type": "code",
      "source": [
        "indiv2.shape"
      ],
      "metadata": {
        "colab": {
          "base_uri": "https://localhost:8080/"
        },
        "id": "TJNc9UgEAW5t",
        "outputId": "bfca8f7d-d5ae-4ff4-d621-022e4b4b5ec0"
      },
      "execution_count": null,
      "outputs": [
        {
          "output_type": "execute_result",
          "data": {
            "text/plain": [
              "(5486, 57, 250)"
            ]
          },
          "metadata": {},
          "execution_count": 20
        }
      ]
    },
    {
      "cell_type": "code",
      "source": [
        "\n",
        "#Sequential model has a 50 cell LSTM layer before Dense layers\n",
        "model = tf.keras.models.Sequential()\n",
        "\n",
        "\n",
        "model.add(tf.keras.layers.LSTM(50))\n",
        "model.add(tf.keras.layaers.Dense(20,activation='relu'))\n",
        "model.add(tf.keras.layers.Dense(5,activation='relu'))\n",
        "\n",
        "model.add(tf.keras.layers.Dense(1,activation='sigmoid'))\n",
        "\n",
        "#Compile model with binary_crossentropy loss, Adam optimizer, and accuracy metrics\n",
        "model.compile(optimizer=tf.keras.optimizers.Adam(learning_rate = 1e-4),\n",
        "              loss=\"binary_crossentropy\", metrics=['accuracy'])\n",
        "\n",
        "#Train model on 10 epochs\n",
        "model.fit(indiv, y_train,validation_data=[indiv2,y_test], epochs=10)"
      ],
      "metadata": {
        "colab": {
          "base_uri": "https://localhost:8080/"
        },
        "id": "fwwIOnWGCp4h",
        "outputId": "cbf8bec2-73e2-4c9f-95e1-da8c6cc7e0c2"
      },
      "execution_count": null,
      "outputs": [
        {
          "output_type": "stream",
          "name": "stdout",
          "text": [
            "Epoch 1/10\n",
            "400/400 [==============================] - 30s 68ms/step - loss: 0.5031 - accuracy: 0.8172 - val_loss: 0.2942 - val_accuracy: 0.8841\n",
            "Epoch 2/10\n",
            "400/400 [==============================] - 21s 53ms/step - loss: 0.2393 - accuracy: 0.9035 - val_loss: 0.2095 - val_accuracy: 0.9176\n",
            "Epoch 3/10\n",
            "400/400 [==============================] - 22s 54ms/step - loss: 0.1875 - accuracy: 0.9248 - val_loss: 0.1759 - val_accuracy: 0.9306\n",
            "Epoch 4/10\n",
            "400/400 [==============================] - 21s 53ms/step - loss: 0.1607 - accuracy: 0.9336 - val_loss: 0.1785 - val_accuracy: 0.9276\n",
            "Epoch 5/10\n",
            "400/400 [==============================] - 22s 55ms/step - loss: 0.1460 - accuracy: 0.9397 - val_loss: 0.1441 - val_accuracy: 0.9442\n",
            "Epoch 6/10\n",
            "400/400 [==============================] - 21s 52ms/step - loss: 0.1337 - accuracy: 0.9448 - val_loss: 0.1444 - val_accuracy: 0.9417\n",
            "Epoch 7/10\n",
            "400/400 [==============================] - 21s 53ms/step - loss: 0.1252 - accuracy: 0.9497 - val_loss: 0.1308 - val_accuracy: 0.9497\n",
            "Epoch 8/10\n",
            "400/400 [==============================] - 22s 54ms/step - loss: 0.1198 - accuracy: 0.9517 - val_loss: 0.1342 - val_accuracy: 0.9460\n",
            "Epoch 9/10\n",
            "400/400 [==============================] - 22s 54ms/step - loss: 0.1108 - accuracy: 0.9554 - val_loss: 0.1183 - val_accuracy: 0.9511\n",
            "Epoch 10/10\n",
            "400/400 [==============================] - 22s 56ms/step - loss: 0.1052 - accuracy: 0.9592 - val_loss: 0.1150 - val_accuracy: 0.9541\n"
          ]
        },
        {
          "output_type": "execute_result",
          "data": {
            "text/plain": [
              "<keras.callbacks.History at 0x7f459260e250>"
            ]
          },
          "metadata": {},
          "execution_count": 21
        }
      ]
    },
    {
      "cell_type": "code",
      "source": [
        "test_news=pd.Series([\"Donald Trump sent his own plane to transport 200 stranded marines\",\n",
        "\"FBI director received millions from Clinton Foundation, his brother’s law firm does Clinton’s taxes\",\n",
        "\"Pope Francis shocks world, endorses Donald Trump for president\",\n",
        "\"Ghost of Kyiv killed in fighting, has shot down 40 Russian jets\",\"Russia Returns Bodies Of 62 Ukraine Soldiers After Difficult Negotiations\",\n",
        " \"Israel PM Hails 'Historic Agreement' With Lebanon On Sea Border\",\n",
        " \"Queen Consort Camilla Wants Meghan Markle, Prince Harry To Return To Royal Family: Report\",\n",
        " \"Silicon Valley Billionaire Yuri Milner Renounces Russian Citizenship\"\n",
        " ])\n",
        "print(test_news.shape)\n",
        "\n",
        "test_news = test_news.apply(lambda row: nltk.word_tokenize(row))\n",
        "stop = stopwords.words('english')\n",
        "test_news = test_news.apply(lambda x: [i for i in x if i not in stop])\n",
        "punctuation = [\".\",\",\",\";\",\":\",\"[\",\"]\",\"{\",\"}\",\"'\",\"!\",\"-\",\"/\",]\n",
        "test_news = test_news.apply(lambda x: [i for i in x if i not in punctuation])\n",
        "\n",
        "test_news"
      ],
      "metadata": {
        "id": "SKinAT_mFRGi",
        "colab": {
          "base_uri": "https://localhost:8080/"
        },
        "outputId": "ca78ff27-d484-4c5f-90fe-a8fd8010998f"
      },
      "execution_count": null,
      "outputs": [
        {
          "output_type": "stream",
          "name": "stdout",
          "text": [
            "(8,)\n"
          ]
        },
        {
          "output_type": "execute_result",
          "data": {
            "text/plain": [
              "0    [Donald, Trump, sent, plane, transport, 200, s...\n",
              "1    [FBI, director, received, millions, Clinton, F...\n",
              "2    [Pope, Francis, shocks, world, endorses, Donal...\n",
              "3    [Ghost, Kyiv, killed, fighting, shot, 40, Russ...\n",
              "4    [Russia, Returns, Bodies, Of, 62, Ukraine, Sol...\n",
              "5    [Israel, PM, Hails, 'Historic, Agreement, With...\n",
              "6    [Queen, Consort, Camilla, Wants, Meghan, Markl...\n",
              "7    [Silicon, Valley, Billionaire, Yuri, Milner, R...\n",
              "dtype: object"
            ]
          },
          "metadata": {},
          "execution_count": 22
        }
      ]
    },
    {
      "cell_type": "code",
      "source": [
        "test_news1 = []\n",
        "for i in test_news:\n",
        "  temp = np.array(embed(i))\n",
        "  test_news1.append(temp)\n",
        "test_news1 = tf.keras.preprocessing.sequence.pad_sequences(test_news1,dtype='float')"
      ],
      "metadata": {
        "id": "hq1Z_yIZu0TE"
      },
      "execution_count": null,
      "outputs": []
    },
    {
      "cell_type": "code",
      "source": [
        "test_news1.shape"
      ],
      "metadata": {
        "colab": {
          "base_uri": "https://localhost:8080/"
        },
        "id": "4kFYxSmTu__Y",
        "outputId": "966b710c-10ab-49d1-f76d-8fdb54f7e0f2"
      },
      "execution_count": null,
      "outputs": [
        {
          "output_type": "execute_result",
          "data": {
            "text/plain": [
              "(8, 14, 250)"
            ]
          },
          "metadata": {},
          "execution_count": 24
        }
      ]
    },
    {
      "cell_type": "code",
      "source": [
        "model.predict(test_news1)"
      ],
      "metadata": {
        "colab": {
          "base_uri": "https://localhost:8080/"
        },
        "id": "zAf1_IqUvH82",
        "outputId": "11ab6124-a849-4d52-f44b-81b88844779e"
      },
      "execution_count": null,
      "outputs": [
        {
          "output_type": "stream",
          "name": "stdout",
          "text": [
            "1/1 [==============================] - 1s 562ms/step\n"
          ]
        },
        {
          "output_type": "execute_result",
          "data": {
            "text/plain": [
              "array([[0.8460925 ],\n",
              "       [0.8910343 ],\n",
              "       [0.8347661 ],\n",
              "       [0.90175915],\n",
              "       [0.9543986 ],\n",
              "       [0.9201529 ],\n",
              "       [0.8512075 ],\n",
              "       [0.84731644]], dtype=float32)"
            ]
          },
          "metadata": {},
          "execution_count": 25
        }
      ]
    },
    {
      "cell_type": "code",
      "source": [
        "#function for pre_processing\n",
        "def pre_processing_input(test_case):\n",
        "  test_news = test_case.apply(lambda row: nltk.word_tokenize(row))\n",
        "  stop = stopwords.words('english')\n",
        "  test_news = test_news.apply(lambda x: [i for i in x if i not in stop])\n",
        "  punctuation = [\".\",\",\",\";\",\":\",\"[\",\"]\",\"{\",\"}\",\"'\",\"!\",\"-\",\"/\",]\n",
        "  test_news = test_news.apply(lambda x: [i for i in x if i not in punctuation])\n",
        "  return test_news\n",
        "\n"
      ],
      "metadata": {
        "id": "di3Guh3zK1Nf"
      },
      "execution_count": null,
      "outputs": []
    },
    {
      "cell_type": "code",
      "source": [
        "#give the input function here and store it in below\n",
        "\n",
        "#test_case =\n",
        "test_case = pre_processing_input(pd.Series(test_case))\n"
      ],
      "metadata": {
        "colab": {
          "base_uri": "https://localhost:8080/"
        },
        "id": "hy8_PwzzKoR8",
        "outputId": "25e32070-c4dc-4c7e-845d-cca9042bca7e"
      },
      "execution_count": null,
      "outputs": [
        {
          "output_type": "execute_result",
          "data": {
            "text/plain": [
              "0    [Donald, Trump, sent, plane, transport, 200, s...\n",
              "dtype: object"
            ]
          },
          "metadata": {},
          "execution_count": 116
        }
      ]
    }
  ]
}